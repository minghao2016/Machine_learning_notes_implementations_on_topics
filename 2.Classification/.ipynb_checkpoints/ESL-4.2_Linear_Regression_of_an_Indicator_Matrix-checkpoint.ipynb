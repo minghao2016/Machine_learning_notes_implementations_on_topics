{
 "cells": [
  {
   "cell_type": "markdown",
   "metadata": {},
   "source": [
    "# 4.2 Linear Regression of an Indicator Matrix\n",
    "\n",
    "#### Indicator response matrix $\\mathbf{Y}$:\n",
    "- N $\\times$ K matrix with N training instances of form Y = (Y1,...,YK); Yk = 1 if G = k else 0\n",
    "- Y is a matrix of 0's and 1's, with each row having a single 1\n",
    "\n",
    "We fit a linear regression model to each of the columns of Y simultaneously, and the fit is given by:\n",
    "\\begin{align}\n",
    "\\mathbf{\\hat{Y}}=\\mathbf{X}(\\mathbf{X}^T\\mathbf{X})^{-1}\\mathbf{X}^Ty\n",
    "\\end{align}\n",
    "\n",
    "Note that we have a coefficient vector for each response column $y_k$, and hence a (p+1)$\\times$K coefficient matrix $\\mathbf{\\hat{B}}=(\\mathbf{X}^T\\mathbf{X})^{-1}\\mathbf{X}^Ty$. Here X is the model matrix with p+1 columns\n",
    "corresponding to the p inputs, and a leading column of 1's for the intercept.\n",
    "\n",
    "A new observation with input x is classified as follows:\n",
    "- compute the fitted output $\\hat{f}(x)=[(1,x)\\mathbf{\\hat{B}}]^T$, a K vector\n",
    "- identify the largest component and classify accordingly:\n",
    "\\begin{align}\n",
    "\\hat{G}(x)=argmax_{k}\\hat{f}_k(x)\n",
    "\\end{align}\n",
    "\n",
    "### Rationale\n"
   ]
  },
  {
   "cell_type": "code",
   "execution_count": null,
   "metadata": {
    "collapsed": true
   },
   "outputs": [],
   "source": []
  }
 ],
 "metadata": {
  "kernelspec": {
   "display_name": "Python 3",
   "language": "python",
   "name": "python3"
  },
  "language_info": {
   "codemirror_mode": {
    "name": "ipython",
    "version": 3
   },
   "file_extension": ".py",
   "mimetype": "text/x-python",
   "name": "python",
   "nbconvert_exporter": "python",
   "pygments_lexer": "ipython3",
   "version": "3.6.3"
  }
 },
 "nbformat": 4,
 "nbformat_minor": 2
}
