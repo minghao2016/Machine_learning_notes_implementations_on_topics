{
 "cells": [
  {
   "cell_type": "markdown",
   "metadata": {},
   "source": [
    "Much of this data is unstructured: images are a collection of pixels with each\n",
    "pixel containing RGB (red, green, blue) color information. Texts are sequences\n",
    "of words and nonword characters, often organized by sections, subsections, and\n",
    "so on. Clickstreams are sequences of actions by a user interacting with an app or\n",
    "web page.\n",
    "\n",
    "To apply the statistical concepts covered in\n",
    "this book, unstructured raw data must be processed and manipulated into a\n",
    "structured form\n",
    "\n"
   ]
  }
 ],
 "metadata": {
  "kernelspec": {
   "display_name": "Python 3",
   "language": "python",
   "name": "python3"
  },
  "language_info": {
   "codemirror_mode": {
    "name": "ipython",
    "version": 3
   },
   "file_extension": ".py",
   "mimetype": "text/x-python",
   "name": "python",
   "nbconvert_exporter": "python",
   "pygments_lexer": "ipython3",
   "version": "3.7.3"
  },
  "toc": {
   "base_numbering": 1,
   "nav_menu": {},
   "number_sections": true,
   "sideBar": true,
   "skip_h1_title": false,
   "title_cell": "Table of Contents",
   "title_sidebar": "Contents",
   "toc_cell": false,
   "toc_position": {},
   "toc_section_display": true,
   "toc_window_display": true
  }
 },
 "nbformat": 4,
 "nbformat_minor": 2
}
